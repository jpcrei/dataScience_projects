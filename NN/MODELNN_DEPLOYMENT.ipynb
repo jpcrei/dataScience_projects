{
 "cells": [
  {
   "cell_type": "markdown",
   "id": "62217490-f006-4a6c-88db-5512f1d8b234",
   "metadata": {},
   "source": [
    "# <p style=\"text-align: center;\"> EXERCISE\n",
    "### <span style=\"color: blue;\"> <p style=\"text-align: center;\"> DEPLOYMENT MODELO <span style=\"color: blue;\">"
   ]
  },
  {
   "cell_type": "markdown",
   "id": "86d0b68b-a237-4614-b3c6-cdfb5d5174fb",
   "metadata": {},
   "source": [
    "**Passo 1** - Bib import"
   ]
  },
  {
   "cell_type": "code",
   "execution_count": null,
   "id": "9dbca7ea-6546-4415-b33a-1c461763f7f6",
   "metadata": {},
   "outputs": [],
   "source": [
    "import pandas as pd\n",
    "import numpy as np\n",
    "\n",
    "from sklearn.preprocessing import MinMaxScaler # Data Normalization / Scaling\n",
    "from tensorflow.keras.models import load_model"
   ]
  },
  {
   "cell_type": "markdown",
   "id": "551d05e4-82cf-44f5-884a-ca287d711c49",
   "metadata": {},
   "source": [
    "**Passo 2** - Data import"
   ]
  },
  {
   "cell_type": "code",
   "execution_count": null,
   "id": "1cb446a4-0fc3-4516-8a5b-616e5f41e4ce",
   "metadata": {},
   "outputs": [],
   "source": [
    "# Importação dos dados\n",
    "laptop_pricing_deplyment = pd.read_csv('C:/Users/RH_VG/Downloads/laptop_pricing_NN_teste.csv')"
   ]
  },
  {
   "cell_type": "markdown",
   "id": "a03725b6-2df4-4110-a92c-0c2b5c565fe5",
   "metadata": {},
   "source": [
    "**Passo 3** - Select variables"
   ]
  },
  {
   "cell_type": "code",
   "execution_count": null,
   "id": "6c92f15b-6a5f-479d-9489-1faf5853dde1",
   "metadata": {},
   "outputs": [],
   "source": [
    "laptop_pricing_deplyment = laptop_pricing_deplyment[['GPU','CPU_core', 'RAM_GB', 'Manufacturer','Screen_Size_cm', 'Storage_GB_SSD']] # Não incluimos aqui a variavel TARGET dado que em deployment não a temos"
   ]
  },
  {
   "cell_type": "markdown",
   "id": "7c1857f8-f301-41b6-ad23-d49d363f4886",
   "metadata": {},
   "source": [
    "**Passo 4** - Pre_processing"
   ]
  },
  {
   "cell_type": "code",
   "execution_count": null,
   "id": "51bfc41e-4da3-4ab1-b923-d629d88f8844",
   "metadata": {},
   "outputs": [],
   "source": [
    "laptop_pricing_deplyment.dropna(inplace = True)\n",
    "\n",
    "train_columns = [\n",
    "    'GPU', 'CPU_core', 'RAM_GB', 'Screen_Size_cm', 'Storage_GB_SSD','Manufacturer_Asus',\n",
    "    'Manufacturer_Dell', 'Manufacturer_HP', 'Manufacturer_Huawei',\n",
    "    'Manufacturer_Lenovo', 'Manufacturer_MSI', 'Manufacturer_Razer',\n",
    "    'Manufacturer_Samsung', 'Manufacturer_Toshiba'\n",
    "]\n",
    "\n",
    "# Criar dummies\n",
    "laptop_dummies = pd.get_dummies(laptop_pricing_deplyment, columns=['Manufacturer'], drop_first=True)\n",
    "\n",
    "# Reindexar para ter exatamente as mesmas colunas\n",
    "laptop_dummies = laptop_dummies.reindex(columns=train_columns, fill_value=0)\n",
    "\n",
    "\n",
    "# ... e TODAS as tarefas de pré-processamento que realizaram no treino"
   ]
  },
  {
   "cell_type": "markdown",
   "id": "e624e9d7-6f98-43c4-a943-1f705e4506f7",
   "metadata": {},
   "source": [
    "**Passo 5** - Min-Max scale[0 : 1]"
   ]
  },
  {
   "cell_type": "code",
   "execution_count": null,
   "id": "e19d8e40-3df6-461b-bfab-456e63d2b2df",
   "metadata": {},
   "outputs": [],
   "source": [
    "scaler = MinMaxScaler()\n",
    "laptop_dummies = scaler.fit_transform(laptop_dummies)"
   ]
  },
  {
   "cell_type": "markdown",
   "id": "031aa715-1b2d-4a29-848e-515b039d593b",
   "metadata": {},
   "source": [
    "**Passo 6** - Model import"
   ]
  },
  {
   "cell_type": "code",
   "execution_count": null,
   "id": "6ef373a0-c962-48f1-a21f-b73c8cd6cdba",
   "metadata": {},
   "outputs": [],
   "source": [
    "model = load_model('C:/Users/RH_VG/Downloads/my_keras_nn_model.keras')"
   ]
  },
  {
   "cell_type": "markdown",
   "id": "23070b18-8bdd-4703-820f-9502eedf3ad0",
   "metadata": {},
   "source": [
    "**Passo 7** - Apply to new dataset"
   ]
  },
  {
   "cell_type": "code",
   "execution_count": 7,
   "id": "c2294232-f5cd-439e-80d5-b45738351340",
   "metadata": {},
   "outputs": [
    {
     "name": "stdout",
     "output_type": "stream",
     "text": [
      "\u001b[1m2/2\u001b[0m \u001b[32m━━━━━━━━━━━━━━━━━━━━\u001b[0m\u001b[37m\u001b[0m \u001b[1m0s\u001b[0m 54ms/step \n"
     ]
    },
    {
     "data": {
      "text/plain": [
       "array([[2329.1602 ],\n",
       "       [ 360.6206 ],\n",
       "       [2191.9375 ],\n",
       "       [ 936.801  ],\n",
       "       [1528.5144 ],\n",
       "       [1237.752  ],\n",
       "       [1404.1588 ],\n",
       "       [1039.4365 ],\n",
       "       [1190.4213 ],\n",
       "       [1453.2714 ],\n",
       "       [1524.0079 ],\n",
       "       [ 484.8916 ],\n",
       "       [1210.293  ],\n",
       "       [1210.293  ],\n",
       "       [1347.0879 ],\n",
       "       [1733.4667 ],\n",
       "       [1906.605  ],\n",
       "       [2318.7073 ],\n",
       "       [ 891.98517],\n",
       "       [ 976.1029 ],\n",
       "       [ 791.631  ],\n",
       "       [1343.3707 ],\n",
       "       [2131.889  ],\n",
       "       [1732.9474 ],\n",
       "       [1063.7804 ],\n",
       "       [ 665.36304],\n",
       "       [ 790.70026],\n",
       "       [1086.5579 ],\n",
       "       [1210.293  ],\n",
       "       [1598.4904 ],\n",
       "       [1234.6982 ],\n",
       "       [2281.6897 ],\n",
       "       [1528.5144 ],\n",
       "       [ 819.7495 ],\n",
       "       [1423.2925 ],\n",
       "       [1108.4136 ],\n",
       "       [2357.449  ],\n",
       "       [1752.0826 ],\n",
       "       [ 898.10724],\n",
       "       [ 829.652  ],\n",
       "       [1716.4562 ],\n",
       "       [1234.6982 ],\n",
       "       [1536.9587 ],\n",
       "       [1598.4904 ],\n",
       "       [1453.2714 ],\n",
       "       [1598.4904 ],\n",
       "       [1606.9683 ],\n",
       "       [1792.56   ],\n",
       "       [1446.7117 ]], dtype=float32)"
      ]
     },
     "execution_count": 7,
     "metadata": {},
     "output_type": "execute_result"
    }
   ],
   "source": [
    "predictions = model.predict(laptop_dummies) \n",
    "predictions"
   ]
  }
 ],
 "metadata": {
  "kernelspec": {
   "display_name": "Python 3",
   "language": "python",
   "name": "python3"
  },
  "language_info": {
   "codemirror_mode": {
    "name": "ipython",
    "version": 3
   },
   "file_extension": ".py",
   "mimetype": "text/x-python",
   "name": "python",
   "nbconvert_exporter": "python",
   "pygments_lexer": "ipython3",
   "version": "3.12.8"
  }
 },
 "nbformat": 4,
 "nbformat_minor": 5
}
