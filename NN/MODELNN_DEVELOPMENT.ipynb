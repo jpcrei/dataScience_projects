{
 "cells": [
  {
   "cell_type": "markdown",
   "id": "62217490-f006-4a6c-88db-5512f1d8b234",
   "metadata": {
    "id": "62217490-f006-4a6c-88db-5512f1d8b234"
   },
   "source": [
    "# <p style=\"text-align: center;\"> EXERCISE\n",
    "### <span style=\"color: blue;\"> <p style=\"text-align: center;\"> DESENVOLVIMENTO MODELO <span style=\"color: blue;\">"
   ]
  },
  {
   "cell_type": "markdown",
   "id": "86d0b68b-a237-4614-b3c6-cdfb5d5174fb",
   "metadata": {
    "id": "86d0b68b-a237-4614-b3c6-cdfb5d5174fb"
   },
   "source": [
    "**Passo 1** - Bib import"
   ]
  },
  {
   "cell_type": "code",
   "execution_count": 1,
   "id": "9dbca7ea-6546-4415-b33a-1c461763f7f6",
   "metadata": {
    "executionInfo": {
     "elapsed": 42,
     "status": "ok",
     "timestamp": 1754848021696,
     "user": {
      "displayName": "Lara Ramos",
      "userId": "15501682823995659557"
     },
     "user_tz": -120
    },
    "id": "9dbca7ea-6546-4415-b33a-1c461763f7f6"
   },
   "outputs": [],
   "source": [
    "import pandas as pd\n",
    "import numpy as np\n",
    "\n",
    "from sklearn.model_selection import train_test_split # Data Partition\n",
    "from sklearn.preprocessing import MinMaxScaler # Data Normalization / Scaling\n",
    "from sklearn.linear_model import LinearRegression\n",
    "from sklearn.model_selection import train_test_split\n",
    "from sklearn.metrics import mean_squared_error, r2_score\n",
    "\n",
    "import tensorflow as tf\n",
    "from tensorflow import keras\n",
    "from tensorflow.keras import Sequential # Util para definição das layers\n",
    "from tensorflow.keras.layers import Dense # Serve para aplicar as transformações lineares"
   ]
  },
  {
   "cell_type": "markdown",
   "id": "551d05e4-82cf-44f5-884a-ca287d711c49",
   "metadata": {
    "id": "551d05e4-82cf-44f5-884a-ca287d711c49"
   },
   "source": [
    "**Passo 2** - Data import"
   ]
  },
  {
   "cell_type": "code",
   "execution_count": 3,
   "id": "1cb446a4-0fc3-4516-8a5b-616e5f41e4ce",
   "metadata": {
    "colab": {
     "base_uri": "https://localhost:8080/",
     "height": 206
    },
    "executionInfo": {
     "elapsed": 64,
     "status": "ok",
     "timestamp": 1754848022918,
     "user": {
      "displayName": "Lara Ramos",
      "userId": "15501682823995659557"
     },
     "user_tz": -120
    },
    "id": "1cb446a4-0fc3-4516-8a5b-616e5f41e4ce",
    "outputId": "cf110035-2ddc-45d8-83e8-f26e8bf894c4"
   },
   "outputs": [
    {
     "data": {
      "application/vnd.microsoft.datawrangler.viewer.v0+json": {
       "columns": [
        {
         "name": "index",
         "rawType": "int64",
         "type": "integer"
        },
        {
         "name": "Manufacturer",
         "rawType": "object",
         "type": "string"
        },
        {
         "name": "Category",
         "rawType": "int64",
         "type": "integer"
        },
        {
         "name": "Screen",
         "rawType": "object",
         "type": "string"
        },
        {
         "name": "GPU",
         "rawType": "int64",
         "type": "integer"
        },
        {
         "name": "OS",
         "rawType": "int64",
         "type": "integer"
        },
        {
         "name": "CPU_core",
         "rawType": "int64",
         "type": "integer"
        },
        {
         "name": "Screen_Size_cm",
         "rawType": "float64",
         "type": "float"
        },
        {
         "name": "CPU_frequency",
         "rawType": "float64",
         "type": "float"
        },
        {
         "name": "RAM_GB",
         "rawType": "int64",
         "type": "integer"
        },
        {
         "name": "Storage_GB_SSD",
         "rawType": "int64",
         "type": "integer"
        },
        {
         "name": "Weight_kg",
         "rawType": "float64",
         "type": "float"
        },
        {
         "name": "Price",
         "rawType": "int64",
         "type": "integer"
        }
       ],
       "ref": "6b012885-d5d5-4e03-bc64-f3e7fac47c23",
       "rows": [
        [
         "0",
         "Acer",
         "4",
         "IPS Panel",
         "2",
         "1",
         "5",
         "35.56",
         "1.6",
         "8",
         "256",
         "1.6",
         "978"
        ],
        [
         "1",
         "Dell",
         "3",
         "Full HD",
         "1",
         "1",
         "3",
         "39.624",
         "2.0",
         "4",
         "256",
         "2.2",
         "634"
        ],
        [
         "2",
         "Dell",
         "3",
         "Full HD",
         "1",
         "1",
         "7",
         "39.624",
         "2.7",
         "8",
         "256",
         "2.2",
         "946"
        ],
        [
         "3",
         "Dell",
         "4",
         "IPS Panel",
         "2",
         "1",
         "5",
         "33.782",
         "1.6",
         "8",
         "128",
         "1.22",
         "1244"
        ],
        [
         "4",
         "HP",
         "4",
         "Full HD",
         "2",
         "1",
         "7",
         "39.624",
         "1.8",
         "8",
         "256",
         "1.91",
         "837"
        ]
       ],
       "shape": {
        "columns": 12,
        "rows": 5
       }
      },
      "text/html": [
       "<div>\n",
       "<style scoped>\n",
       "    .dataframe tbody tr th:only-of-type {\n",
       "        vertical-align: middle;\n",
       "    }\n",
       "\n",
       "    .dataframe tbody tr th {\n",
       "        vertical-align: top;\n",
       "    }\n",
       "\n",
       "    .dataframe thead th {\n",
       "        text-align: right;\n",
       "    }\n",
       "</style>\n",
       "<table border=\"1\" class=\"dataframe\">\n",
       "  <thead>\n",
       "    <tr style=\"text-align: right;\">\n",
       "      <th></th>\n",
       "      <th>Manufacturer</th>\n",
       "      <th>Category</th>\n",
       "      <th>Screen</th>\n",
       "      <th>GPU</th>\n",
       "      <th>OS</th>\n",
       "      <th>CPU_core</th>\n",
       "      <th>Screen_Size_cm</th>\n",
       "      <th>CPU_frequency</th>\n",
       "      <th>RAM_GB</th>\n",
       "      <th>Storage_GB_SSD</th>\n",
       "      <th>Weight_kg</th>\n",
       "      <th>Price</th>\n",
       "    </tr>\n",
       "  </thead>\n",
       "  <tbody>\n",
       "    <tr>\n",
       "      <th>0</th>\n",
       "      <td>Acer</td>\n",
       "      <td>4</td>\n",
       "      <td>IPS Panel</td>\n",
       "      <td>2</td>\n",
       "      <td>1</td>\n",
       "      <td>5</td>\n",
       "      <td>35.560</td>\n",
       "      <td>1.6</td>\n",
       "      <td>8</td>\n",
       "      <td>256</td>\n",
       "      <td>1.60</td>\n",
       "      <td>978</td>\n",
       "    </tr>\n",
       "    <tr>\n",
       "      <th>1</th>\n",
       "      <td>Dell</td>\n",
       "      <td>3</td>\n",
       "      <td>Full HD</td>\n",
       "      <td>1</td>\n",
       "      <td>1</td>\n",
       "      <td>3</td>\n",
       "      <td>39.624</td>\n",
       "      <td>2.0</td>\n",
       "      <td>4</td>\n",
       "      <td>256</td>\n",
       "      <td>2.20</td>\n",
       "      <td>634</td>\n",
       "    </tr>\n",
       "    <tr>\n",
       "      <th>2</th>\n",
       "      <td>Dell</td>\n",
       "      <td>3</td>\n",
       "      <td>Full HD</td>\n",
       "      <td>1</td>\n",
       "      <td>1</td>\n",
       "      <td>7</td>\n",
       "      <td>39.624</td>\n",
       "      <td>2.7</td>\n",
       "      <td>8</td>\n",
       "      <td>256</td>\n",
       "      <td>2.20</td>\n",
       "      <td>946</td>\n",
       "    </tr>\n",
       "    <tr>\n",
       "      <th>3</th>\n",
       "      <td>Dell</td>\n",
       "      <td>4</td>\n",
       "      <td>IPS Panel</td>\n",
       "      <td>2</td>\n",
       "      <td>1</td>\n",
       "      <td>5</td>\n",
       "      <td>33.782</td>\n",
       "      <td>1.6</td>\n",
       "      <td>8</td>\n",
       "      <td>128</td>\n",
       "      <td>1.22</td>\n",
       "      <td>1244</td>\n",
       "    </tr>\n",
       "    <tr>\n",
       "      <th>4</th>\n",
       "      <td>HP</td>\n",
       "      <td>4</td>\n",
       "      <td>Full HD</td>\n",
       "      <td>2</td>\n",
       "      <td>1</td>\n",
       "      <td>7</td>\n",
       "      <td>39.624</td>\n",
       "      <td>1.8</td>\n",
       "      <td>8</td>\n",
       "      <td>256</td>\n",
       "      <td>1.91</td>\n",
       "      <td>837</td>\n",
       "    </tr>\n",
       "  </tbody>\n",
       "</table>\n",
       "</div>"
      ],
      "text/plain": [
       "  Manufacturer  Category     Screen  GPU  OS  CPU_core  Screen_Size_cm  \\\n",
       "0         Acer         4  IPS Panel    2   1         5          35.560   \n",
       "1         Dell         3    Full HD    1   1         3          39.624   \n",
       "2         Dell         3    Full HD    1   1         7          39.624   \n",
       "3         Dell         4  IPS Panel    2   1         5          33.782   \n",
       "4           HP         4    Full HD    2   1         7          39.624   \n",
       "\n",
       "   CPU_frequency  RAM_GB  Storage_GB_SSD  Weight_kg  Price  \n",
       "0            1.6       8             256       1.60    978  \n",
       "1            2.0       4             256       2.20    634  \n",
       "2            2.7       8             256       2.20    946  \n",
       "3            1.6       8             128       1.22   1244  \n",
       "4            1.8       8             256       1.91    837  "
      ]
     },
     "execution_count": 3,
     "metadata": {},
     "output_type": "execute_result"
    }
   ],
   "source": [
    "# Importação dos dados\n",
    "laptop_pricing = pd.read_csv('C:/Users/RH_VG/Downloads/laptop_pricing_NN_treino.csv')\n",
    "laptop_pricing.head()"
   ]
  },
  {
   "cell_type": "markdown",
   "id": "a03725b6-2df4-4110-a92c-0c2b5c565fe5",
   "metadata": {
    "id": "a03725b6-2df4-4110-a92c-0c2b5c565fe5"
   },
   "source": [
    "**Passo 3** - Select variables"
   ]
  },
  {
   "cell_type": "code",
   "execution_count": 4,
   "id": "6c92f15b-6a5f-479d-9489-1faf5853dde1",
   "metadata": {
    "executionInfo": {
     "elapsed": 11,
     "status": "ok",
     "timestamp": 1754848024707,
     "user": {
      "displayName": "Lara Ramos",
      "userId": "15501682823995659557"
     },
     "user_tz": -120
    },
    "id": "6c92f15b-6a5f-479d-9489-1faf5853dde1"
   },
   "outputs": [],
   "source": [
    "laptop_pricingset = laptop_pricing[['GPU','CPU_core', 'RAM_GB', 'Manufacturer','Screen_Size_cm', 'Storage_GB_SSD']]"
   ]
  },
  {
   "cell_type": "markdown",
   "id": "7c1857f8-f301-41b6-ad23-d49d363f4886",
   "metadata": {
    "id": "7c1857f8-f301-41b6-ad23-d49d363f4886"
   },
   "source": [
    "**Passo 4** - Pre_processing"
   ]
  },
  {
   "cell_type": "code",
   "execution_count": 5,
   "id": "51bfc41e-4da3-4ab1-b923-d629d88f8844",
   "metadata": {
    "colab": {
     "base_uri": "https://localhost:8080/",
     "height": 313
    },
    "executionInfo": {
     "elapsed": 90,
     "status": "ok",
     "timestamp": 1754848026407,
     "user": {
      "displayName": "Lara Ramos",
      "userId": "15501682823995659557"
     },
     "user_tz": -120
    },
    "id": "51bfc41e-4da3-4ab1-b923-d629d88f8844",
    "outputId": "33719762-c892-49ab-d8de-3c80945909c1"
   },
   "outputs": [
    {
     "name": "stderr",
     "output_type": "stream",
     "text": [
      "C:\\Users\\RH_VG\\AppData\\Local\\Temp\\ipykernel_40832\\2376833315.py:2: SettingWithCopyWarning: \n",
      "A value is trying to be set on a copy of a slice from a DataFrame\n",
      "\n",
      "See the caveats in the documentation: https://pandas.pydata.org/pandas-docs/stable/user_guide/indexing.html#returning-a-view-versus-a-copy\n",
      "  laptop_pricingset.dropna(inplace = True)\n"
     ]
    },
    {
     "data": {
      "application/vnd.microsoft.datawrangler.viewer.v0+json": {
       "columns": [
        {
         "name": "index",
         "rawType": "int64",
         "type": "integer"
        },
        {
         "name": "GPU",
         "rawType": "int64",
         "type": "integer"
        },
        {
         "name": "CPU_core",
         "rawType": "int64",
         "type": "integer"
        },
        {
         "name": "RAM_GB",
         "rawType": "int64",
         "type": "integer"
        },
        {
         "name": "Screen_Size_cm",
         "rawType": "float64",
         "type": "float"
        },
        {
         "name": "Storage_GB_SSD",
         "rawType": "int64",
         "type": "integer"
        },
        {
         "name": "Manufacturer_Asus",
         "rawType": "bool",
         "type": "boolean"
        },
        {
         "name": "Manufacturer_Dell",
         "rawType": "bool",
         "type": "boolean"
        },
        {
         "name": "Manufacturer_HP",
         "rawType": "bool",
         "type": "boolean"
        },
        {
         "name": "Manufacturer_Huawei",
         "rawType": "bool",
         "type": "boolean"
        },
        {
         "name": "Manufacturer_Lenovo",
         "rawType": "bool",
         "type": "boolean"
        },
        {
         "name": "Manufacturer_MSI",
         "rawType": "bool",
         "type": "boolean"
        },
        {
         "name": "Manufacturer_Razer",
         "rawType": "bool",
         "type": "boolean"
        },
        {
         "name": "Manufacturer_Samsung",
         "rawType": "bool",
         "type": "boolean"
        },
        {
         "name": "Manufacturer_Toshiba",
         "rawType": "bool",
         "type": "boolean"
        }
       ],
       "ref": "b39c0aa9-9986-4902-9e26-a8c67d20c5a7",
       "rows": [
        [
         "0",
         "2",
         "5",
         "8",
         "35.56",
         "256",
         "False",
         "False",
         "False",
         "False",
         "False",
         "False",
         "False",
         "False",
         "False"
        ],
        [
         "1",
         "1",
         "3",
         "4",
         "39.624",
         "256",
         "False",
         "True",
         "False",
         "False",
         "False",
         "False",
         "False",
         "False",
         "False"
        ],
        [
         "2",
         "1",
         "7",
         "8",
         "39.624",
         "256",
         "False",
         "True",
         "False",
         "False",
         "False",
         "False",
         "False",
         "False",
         "False"
        ],
        [
         "3",
         "2",
         "5",
         "8",
         "33.782",
         "128",
         "False",
         "True",
         "False",
         "False",
         "False",
         "False",
         "False",
         "False",
         "False"
        ],
        [
         "4",
         "2",
         "7",
         "8",
         "39.624",
         "256",
         "False",
         "False",
         "True",
         "False",
         "False",
         "False",
         "False",
         "False",
         "False"
        ]
       ],
       "shape": {
        "columns": 14,
        "rows": 5
       }
      },
      "text/html": [
       "<div>\n",
       "<style scoped>\n",
       "    .dataframe tbody tr th:only-of-type {\n",
       "        vertical-align: middle;\n",
       "    }\n",
       "\n",
       "    .dataframe tbody tr th {\n",
       "        vertical-align: top;\n",
       "    }\n",
       "\n",
       "    .dataframe thead th {\n",
       "        text-align: right;\n",
       "    }\n",
       "</style>\n",
       "<table border=\"1\" class=\"dataframe\">\n",
       "  <thead>\n",
       "    <tr style=\"text-align: right;\">\n",
       "      <th></th>\n",
       "      <th>GPU</th>\n",
       "      <th>CPU_core</th>\n",
       "      <th>RAM_GB</th>\n",
       "      <th>Screen_Size_cm</th>\n",
       "      <th>Storage_GB_SSD</th>\n",
       "      <th>Manufacturer_Asus</th>\n",
       "      <th>Manufacturer_Dell</th>\n",
       "      <th>Manufacturer_HP</th>\n",
       "      <th>Manufacturer_Huawei</th>\n",
       "      <th>Manufacturer_Lenovo</th>\n",
       "      <th>Manufacturer_MSI</th>\n",
       "      <th>Manufacturer_Razer</th>\n",
       "      <th>Manufacturer_Samsung</th>\n",
       "      <th>Manufacturer_Toshiba</th>\n",
       "    </tr>\n",
       "  </thead>\n",
       "  <tbody>\n",
       "    <tr>\n",
       "      <th>0</th>\n",
       "      <td>2</td>\n",
       "      <td>5</td>\n",
       "      <td>8</td>\n",
       "      <td>35.560</td>\n",
       "      <td>256</td>\n",
       "      <td>False</td>\n",
       "      <td>False</td>\n",
       "      <td>False</td>\n",
       "      <td>False</td>\n",
       "      <td>False</td>\n",
       "      <td>False</td>\n",
       "      <td>False</td>\n",
       "      <td>False</td>\n",
       "      <td>False</td>\n",
       "    </tr>\n",
       "    <tr>\n",
       "      <th>1</th>\n",
       "      <td>1</td>\n",
       "      <td>3</td>\n",
       "      <td>4</td>\n",
       "      <td>39.624</td>\n",
       "      <td>256</td>\n",
       "      <td>False</td>\n",
       "      <td>True</td>\n",
       "      <td>False</td>\n",
       "      <td>False</td>\n",
       "      <td>False</td>\n",
       "      <td>False</td>\n",
       "      <td>False</td>\n",
       "      <td>False</td>\n",
       "      <td>False</td>\n",
       "    </tr>\n",
       "    <tr>\n",
       "      <th>2</th>\n",
       "      <td>1</td>\n",
       "      <td>7</td>\n",
       "      <td>8</td>\n",
       "      <td>39.624</td>\n",
       "      <td>256</td>\n",
       "      <td>False</td>\n",
       "      <td>True</td>\n",
       "      <td>False</td>\n",
       "      <td>False</td>\n",
       "      <td>False</td>\n",
       "      <td>False</td>\n",
       "      <td>False</td>\n",
       "      <td>False</td>\n",
       "      <td>False</td>\n",
       "    </tr>\n",
       "    <tr>\n",
       "      <th>3</th>\n",
       "      <td>2</td>\n",
       "      <td>5</td>\n",
       "      <td>8</td>\n",
       "      <td>33.782</td>\n",
       "      <td>128</td>\n",
       "      <td>False</td>\n",
       "      <td>True</td>\n",
       "      <td>False</td>\n",
       "      <td>False</td>\n",
       "      <td>False</td>\n",
       "      <td>False</td>\n",
       "      <td>False</td>\n",
       "      <td>False</td>\n",
       "      <td>False</td>\n",
       "    </tr>\n",
       "    <tr>\n",
       "      <th>4</th>\n",
       "      <td>2</td>\n",
       "      <td>7</td>\n",
       "      <td>8</td>\n",
       "      <td>39.624</td>\n",
       "      <td>256</td>\n",
       "      <td>False</td>\n",
       "      <td>False</td>\n",
       "      <td>True</td>\n",
       "      <td>False</td>\n",
       "      <td>False</td>\n",
       "      <td>False</td>\n",
       "      <td>False</td>\n",
       "      <td>False</td>\n",
       "      <td>False</td>\n",
       "    </tr>\n",
       "  </tbody>\n",
       "</table>\n",
       "</div>"
      ],
      "text/plain": [
       "   GPU  CPU_core  RAM_GB  Screen_Size_cm  Storage_GB_SSD  Manufacturer_Asus  \\\n",
       "0    2         5       8          35.560             256              False   \n",
       "1    1         3       4          39.624             256              False   \n",
       "2    1         7       8          39.624             256              False   \n",
       "3    2         5       8          33.782             128              False   \n",
       "4    2         7       8          39.624             256              False   \n",
       "\n",
       "   Manufacturer_Dell  Manufacturer_HP  Manufacturer_Huawei  \\\n",
       "0              False            False                False   \n",
       "1               True            False                False   \n",
       "2               True            False                False   \n",
       "3               True            False                False   \n",
       "4              False             True                False   \n",
       "\n",
       "   Manufacturer_Lenovo  Manufacturer_MSI  Manufacturer_Razer  \\\n",
       "0                False             False               False   \n",
       "1                False             False               False   \n",
       "2                False             False               False   \n",
       "3                False             False               False   \n",
       "4                False             False               False   \n",
       "\n",
       "   Manufacturer_Samsung  Manufacturer_Toshiba  \n",
       "0                 False                 False  \n",
       "1                 False                 False  \n",
       "2                 False                 False  \n",
       "3                 False                 False  \n",
       "4                 False                 False  "
      ]
     },
     "execution_count": 5,
     "metadata": {},
     "output_type": "execute_result"
    }
   ],
   "source": [
    "\n",
    "laptop_pricing.dropna(inplace = True)\n",
    "laptop_pricingset.dropna(inplace = True)\n",
    "laptop_dummies = pd.get_dummies(laptop_pricingset, columns=['Manufacturer'], drop_first=True)\n",
    "laptop_dummies.head()\n",
    "# ... e outras tarefas de pré-processamento que considerem relevantes"
   ]
  },
  {
   "cell_type": "markdown",
   "id": "3e188398-8401-45ff-8b43-d24ef790da2e",
   "metadata": {
    "id": "3e188398-8401-45ff-8b43-d24ef790da2e"
   },
   "source": [
    "**Passo 5** - Model variables definition"
   ]
  },
  {
   "cell_type": "code",
   "execution_count": 6,
   "id": "a3d60c47-c62e-4f17-bbb1-f552b4e1a203",
   "metadata": {
    "executionInfo": {
     "elapsed": 9,
     "status": "ok",
     "timestamp": 1754848029449,
     "user": {
      "displayName": "Lara Ramos",
      "userId": "15501682823995659557"
     },
     "user_tz": -120
    },
    "id": "a3d60c47-c62e-4f17-bbb1-f552b4e1a203"
   },
   "outputs": [],
   "source": [
    "X = laptop_dummies  # Features (variáveis explicativas)\n",
    "y = laptop_pricing[\"Price\"]\n",
    "         # Target (variável a prever)"
   ]
  },
  {
   "cell_type": "markdown",
   "id": "2706c025-afaf-4327-b81a-f7e6113a04c5",
   "metadata": {
    "id": "2706c025-afaf-4327-b81a-f7e6113a04c5"
   },
   "source": [
    "**Passo 6** - Data select (not used for training - small dataset)"
   ]
  },
  {
   "cell_type": "code",
   "execution_count": 13,
   "id": "6c1db675-98df-4101-b655-04d1a0d20ab8",
   "metadata": {
    "colab": {
     "base_uri": "https://localhost:8080/",
     "height": 321
    },
    "executionInfo": {
     "elapsed": 44,
     "status": "error",
     "timestamp": 1754848033506,
     "user": {
      "displayName": "Lara Ramos",
      "userId": "15501682823995659557"
     },
     "user_tz": -120
    },
    "id": "6c1db675-98df-4101-b655-04d1a0d20ab8",
    "outputId": "64277a95-7180-4343-984b-9049d90f3c6a"
   },
   "outputs": [
    {
     "ename": "InvalidParameterError",
     "evalue": "The 'test_size' parameter of train_test_split must be a float in the range (0.0, 1.0), an int in the range [1, inf) or None. Got 0.0 instead.",
     "output_type": "error",
     "traceback": [
      "\u001b[31m---------------------------------------------------------------------------\u001b[39m",
      "\u001b[31mInvalidParameterError\u001b[39m                     Traceback (most recent call last)",
      "\u001b[36mCell\u001b[39m\u001b[36m \u001b[39m\u001b[32mIn[13]\u001b[39m\u001b[32m, line 3\u001b[39m\n\u001b[32m      1\u001b[39m \u001b[38;5;66;03m# Vamos começar por separar os dados de treino (que neste momento inclui os dados de validção) dos dados de teste (vamos considerar 20%)\u001b[39;00m\n\u001b[32m----> \u001b[39m\u001b[32m3\u001b[39m X_train, X_test, y_train, y_test = \u001b[43mtrain_test_split\u001b[49m\u001b[43m(\u001b[49m\u001b[43mX\u001b[49m\u001b[43m,\u001b[49m\u001b[43m \u001b[49m\u001b[43my\u001b[49m\u001b[43m,\u001b[49m\u001b[43m \u001b[49m\u001b[43mtest_size\u001b[49m\u001b[43m \u001b[49m\u001b[43m=\u001b[49m\u001b[43m \u001b[49m\u001b[32;43m0.0\u001b[39;49m\u001b[43m,\u001b[49m\u001b[43m \u001b[49m\u001b[43mrandom_state\u001b[49m\u001b[43m \u001b[49m\u001b[43m=\u001b[49m\u001b[43m \u001b[49m\u001b[32;43m42\u001b[39;49m\u001b[43m)\u001b[49m\n",
      "\u001b[36mFile \u001b[39m\u001b[32mc:\\Users\\RH_VG\\AppData\\Local\\Programs\\Python\\Python312\\Lib\\site-packages\\sklearn\\utils\\_param_validation.py:208\u001b[39m, in \u001b[36mvalidate_params.<locals>.decorator.<locals>.wrapper\u001b[39m\u001b[34m(*args, **kwargs)\u001b[39m\n\u001b[32m    205\u001b[39m to_ignore += [\u001b[33m\"\u001b[39m\u001b[33mself\u001b[39m\u001b[33m\"\u001b[39m, \u001b[33m\"\u001b[39m\u001b[33mcls\u001b[39m\u001b[33m\"\u001b[39m]\n\u001b[32m    206\u001b[39m params = {k: v \u001b[38;5;28;01mfor\u001b[39;00m k, v \u001b[38;5;129;01min\u001b[39;00m params.arguments.items() \u001b[38;5;28;01mif\u001b[39;00m k \u001b[38;5;129;01mnot\u001b[39;00m \u001b[38;5;129;01min\u001b[39;00m to_ignore}\n\u001b[32m--> \u001b[39m\u001b[32m208\u001b[39m \u001b[43mvalidate_parameter_constraints\u001b[49m\u001b[43m(\u001b[49m\n\u001b[32m    209\u001b[39m \u001b[43m    \u001b[49m\u001b[43mparameter_constraints\u001b[49m\u001b[43m,\u001b[49m\u001b[43m \u001b[49m\u001b[43mparams\u001b[49m\u001b[43m,\u001b[49m\u001b[43m \u001b[49m\u001b[43mcaller_name\u001b[49m\u001b[43m=\u001b[49m\u001b[43mfunc\u001b[49m\u001b[43m.\u001b[49m\u001b[34;43m__qualname__\u001b[39;49m\n\u001b[32m    210\u001b[39m \u001b[43m\u001b[49m\u001b[43m)\u001b[49m\n\u001b[32m    212\u001b[39m \u001b[38;5;28;01mtry\u001b[39;00m:\n\u001b[32m    213\u001b[39m     \u001b[38;5;28;01mwith\u001b[39;00m config_context(\n\u001b[32m    214\u001b[39m         skip_parameter_validation=(\n\u001b[32m    215\u001b[39m             prefer_skip_nested_validation \u001b[38;5;129;01mor\u001b[39;00m global_skip_validation\n\u001b[32m    216\u001b[39m         )\n\u001b[32m    217\u001b[39m     ):\n",
      "\u001b[36mFile \u001b[39m\u001b[32mc:\\Users\\RH_VG\\AppData\\Local\\Programs\\Python\\Python312\\Lib\\site-packages\\sklearn\\utils\\_param_validation.py:98\u001b[39m, in \u001b[36mvalidate_parameter_constraints\u001b[39m\u001b[34m(parameter_constraints, params, caller_name)\u001b[39m\n\u001b[32m     92\u001b[39m \u001b[38;5;28;01melse\u001b[39;00m:\n\u001b[32m     93\u001b[39m     constraints_str = (\n\u001b[32m     94\u001b[39m         \u001b[33mf\u001b[39m\u001b[33m\"\u001b[39m\u001b[38;5;132;01m{\u001b[39;00m\u001b[33m'\u001b[39m\u001b[33m, \u001b[39m\u001b[33m'\u001b[39m.join([\u001b[38;5;28mstr\u001b[39m(c)\u001b[38;5;250m \u001b[39m\u001b[38;5;28;01mfor\u001b[39;00m\u001b[38;5;250m \u001b[39mc\u001b[38;5;250m \u001b[39m\u001b[38;5;129;01min\u001b[39;00m\u001b[38;5;250m \u001b[39mconstraints[:-\u001b[32m1\u001b[39m]])\u001b[38;5;132;01m}\u001b[39;00m\u001b[33m or\u001b[39m\u001b[33m\"\u001b[39m\n\u001b[32m     95\u001b[39m         \u001b[33mf\u001b[39m\u001b[33m\"\u001b[39m\u001b[33m \u001b[39m\u001b[38;5;132;01m{\u001b[39;00mconstraints[-\u001b[32m1\u001b[39m]\u001b[38;5;132;01m}\u001b[39;00m\u001b[33m\"\u001b[39m\n\u001b[32m     96\u001b[39m     )\n\u001b[32m---> \u001b[39m\u001b[32m98\u001b[39m \u001b[38;5;28;01mraise\u001b[39;00m InvalidParameterError(\n\u001b[32m     99\u001b[39m     \u001b[33mf\u001b[39m\u001b[33m\"\u001b[39m\u001b[33mThe \u001b[39m\u001b[38;5;132;01m{\u001b[39;00mparam_name\u001b[38;5;132;01m!r}\u001b[39;00m\u001b[33m parameter of \u001b[39m\u001b[38;5;132;01m{\u001b[39;00mcaller_name\u001b[38;5;132;01m}\u001b[39;00m\u001b[33m must be\u001b[39m\u001b[33m\"\u001b[39m\n\u001b[32m    100\u001b[39m     \u001b[33mf\u001b[39m\u001b[33m\"\u001b[39m\u001b[33m \u001b[39m\u001b[38;5;132;01m{\u001b[39;00mconstraints_str\u001b[38;5;132;01m}\u001b[39;00m\u001b[33m. Got \u001b[39m\u001b[38;5;132;01m{\u001b[39;00mparam_val\u001b[38;5;132;01m!r}\u001b[39;00m\u001b[33m instead.\u001b[39m\u001b[33m\"\u001b[39m\n\u001b[32m    101\u001b[39m )\n",
      "\u001b[31mInvalidParameterError\u001b[39m: The 'test_size' parameter of train_test_split must be a float in the range (0.0, 1.0), an int in the range [1, inf) or None. Got 0.0 instead."
     ]
    }
   ],
   "source": [
    "# Vamos começar por separar os dados de treino (que neste momento inclui os dados de validção) dos dados de teste (vamos considerar 20%)\n",
    "\n",
    "X_train, X_test, y_train, y_test = train_test_split(X, y, test_size = 0.0, random_state = 42)\n"
   ]
  },
  {
   "cell_type": "markdown",
   "id": "e624e9d7-6f98-43c4-a943-1f705e4506f7",
   "metadata": {
    "id": "e624e9d7-6f98-43c4-a943-1f705e4506f7"
   },
   "source": [
    "**Passo 7** - Min-Max scale [0 : 1]"
   ]
  },
  {
   "cell_type": "code",
   "execution_count": 7,
   "id": "e19d8e40-3df6-461b-bfab-456e63d2b2df",
   "metadata": {
    "id": "e19d8e40-3df6-461b-bfab-456e63d2b2df",
    "outputId": "5bdb9c03-ac72-40bf-92d1-220693b22fc8"
   },
   "outputs": [],
   "source": [
    "scaler = MinMaxScaler()\n",
    "X_train_scaled = scaler.fit_transform(X)\n",
    "#X_test_scaled = scaler.transform(X_test)"
   ]
  },
  {
   "cell_type": "markdown",
   "id": "b97b5559-d95d-44c8-b7ef-72efbd8ba65e",
   "metadata": {
    "id": "b97b5559-d95d-44c8-b7ef-72efbd8ba65e"
   },
   "source": [
    "**Passo 7** - Network architecture"
   ]
  },
  {
   "cell_type": "code",
   "execution_count": 8,
   "id": "1183b7e8-23ef-4641-9838-f1562fb730bc",
   "metadata": {
    "id": "1183b7e8-23ef-4641-9838-f1562fb730bc",
    "outputId": "11515655-f02c-47d7-885c-f5452ce54899"
   },
   "outputs": [
    {
     "name": "stderr",
     "output_type": "stream",
     "text": [
      "c:\\Users\\RH_VG\\AppData\\Local\\Programs\\Python\\Python312\\Lib\\site-packages\\keras\\src\\layers\\core\\dense.py:92: UserWarning: Do not pass an `input_shape`/`input_dim` argument to a layer. When using Sequential models, prefer using an `Input(shape)` object as the first layer in the model instead.\n",
      "  super().__init__(activity_regularizer=activity_regularizer, **kwargs)\n"
     ]
    }
   ],
   "source": [
    "model = Sequential([\n",
    "    Dense(64, activation='relu', input_shape=(X_train_scaled.shape[1],)),\n",
    "    Dense(32, activation='relu'),\n",
    "    Dense(16, activation='relu'),\n",
    "    Dense(1)\n",
    "])\n",
    "# outra função de ativação muito usada é a 'relu'"
   ]
  },
  {
   "cell_type": "markdown",
   "id": "3f99ce27-5d3a-44ec-897f-992be0dacfbf",
   "metadata": {
    "id": "3f99ce27-5d3a-44ec-897f-992be0dacfbf"
   },
   "source": [
    "**Passo 8** - Compile"
   ]
  },
  {
   "cell_type": "code",
   "execution_count": 9,
   "id": "02a6b6a2-cbd3-494a-a94b-24d18dc0ef34",
   "metadata": {
    "id": "02a6b6a2-cbd3-494a-a94b-24d18dc0ef34"
   },
   "outputs": [],
   "source": [
    "model.compile(optimizer='adam', loss='mean_squared_error', metrics=['mae']) # optimizer define o Learning Rate. o 'adam' é mto usado"
   ]
  },
  {
   "cell_type": "markdown",
   "id": "707ae8d3-0b11-48ab-b4bf-cc1b1d0671f4",
   "metadata": {
    "id": "707ae8d3-0b11-48ab-b4bf-cc1b1d0671f4"
   },
   "source": [
    "**Passo 9** - Best model "
   ]
  },
  {
   "cell_type": "code",
   "execution_count": 12,
   "id": "95dfe189-b2b2-4a35-b4b2-bc84036ef130",
   "metadata": {
    "id": "95dfe189-b2b2-4a35-b4b2-bc84036ef130",
    "outputId": "0bfadd9b-22b2-40fa-d885-0930096fad2c"
   },
   "outputs": [
    {
     "name": "stdout",
     "output_type": "stream",
     "text": [
      "Epoch 1/1000\n",
      "\u001b[1m 1/26\u001b[0m \u001b[37m━━━━━━━━━━━━━━━━━━━━\u001b[0m \u001b[1m0s\u001b[0m 30ms/step - loss: 1828046.3750 - mae: 1240.0891"
     ]
    },
    {
     "ename": "ValueError",
     "evalue": "Data cardinality is ambiguous. Make sure all arrays contain the same number of samples.'x' sizes: 56\n'y' sizes: 51\n",
     "output_type": "error",
     "traceback": [
      "\u001b[31m---------------------------------------------------------------------------\u001b[39m",
      "\u001b[31mValueError\u001b[39m                                Traceback (most recent call last)",
      "\u001b[36mCell\u001b[39m\u001b[36m \u001b[39m\u001b[32mIn[12]\u001b[39m\u001b[32m, line 1\u001b[39m\n\u001b[32m----> \u001b[39m\u001b[32m1\u001b[39m \u001b[43mmodel\u001b[49m\u001b[43m.\u001b[49m\u001b[43mfit\u001b[49m\u001b[43m(\u001b[49m\u001b[43mX_train_scaled\u001b[49m\u001b[43m,\u001b[49m\u001b[43m \u001b[49m\u001b[43my\u001b[49m\u001b[43m,\u001b[49m\u001b[43m \u001b[49m\u001b[43mepochs\u001b[49m\u001b[43m=\u001b[49m\u001b[32;43m1000\u001b[39;49m\u001b[43m,\u001b[49m\u001b[43m \u001b[49m\u001b[43mbatch_size\u001b[49m\u001b[43m=\u001b[49m\u001b[32;43m5\u001b[39;49m\u001b[43m,\u001b[49m\u001b[43m \u001b[49m\u001b[43mvalidation_split\u001b[49m\u001b[43m=\u001b[49m\u001b[32;43m0.3\u001b[39;49m\u001b[43m)\u001b[49m\n",
      "\u001b[36mFile \u001b[39m\u001b[32mc:\\Users\\RH_VG\\AppData\\Local\\Programs\\Python\\Python312\\Lib\\site-packages\\keras\\src\\utils\\traceback_utils.py:122\u001b[39m, in \u001b[36mfilter_traceback.<locals>.error_handler\u001b[39m\u001b[34m(*args, **kwargs)\u001b[39m\n\u001b[32m    119\u001b[39m     filtered_tb = _process_traceback_frames(e.__traceback__)\n\u001b[32m    120\u001b[39m     \u001b[38;5;66;03m# To get the full stack trace, call:\u001b[39;00m\n\u001b[32m    121\u001b[39m     \u001b[38;5;66;03m# `keras.config.disable_traceback_filtering()`\u001b[39;00m\n\u001b[32m--> \u001b[39m\u001b[32m122\u001b[39m     \u001b[38;5;28;01mraise\u001b[39;00m e.with_traceback(filtered_tb) \u001b[38;5;28;01mfrom\u001b[39;00m\u001b[38;5;250m \u001b[39m\u001b[38;5;28;01mNone\u001b[39;00m\n\u001b[32m    123\u001b[39m \u001b[38;5;28;01mfinally\u001b[39;00m:\n\u001b[32m    124\u001b[39m     \u001b[38;5;28;01mdel\u001b[39;00m filtered_tb\n",
      "\u001b[36mFile \u001b[39m\u001b[32mc:\\Users\\RH_VG\\AppData\\Local\\Programs\\Python\\Python312\\Lib\\site-packages\\keras\\src\\trainers\\data_adapters\\data_adapter_utils.py:115\u001b[39m, in \u001b[36mcheck_data_cardinality\u001b[39m\u001b[34m(data)\u001b[39m\n\u001b[32m    111\u001b[39m     sizes = \u001b[33m\"\u001b[39m\u001b[33m, \u001b[39m\u001b[33m\"\u001b[39m.join(\n\u001b[32m    112\u001b[39m         \u001b[38;5;28mstr\u001b[39m(i.shape[\u001b[32m0\u001b[39m]) \u001b[38;5;28;01mfor\u001b[39;00m i \u001b[38;5;129;01min\u001b[39;00m tree.flatten(single_data)\n\u001b[32m    113\u001b[39m     )\n\u001b[32m    114\u001b[39m     msg += \u001b[33mf\u001b[39m\u001b[33m\"\u001b[39m\u001b[33m'\u001b[39m\u001b[38;5;132;01m{\u001b[39;00mlabel\u001b[38;5;132;01m}\u001b[39;00m\u001b[33m'\u001b[39m\u001b[33m sizes: \u001b[39m\u001b[38;5;132;01m{\u001b[39;00msizes\u001b[38;5;132;01m}\u001b[39;00m\u001b[38;5;130;01m\\n\u001b[39;00m\u001b[33m\"\u001b[39m\n\u001b[32m--> \u001b[39m\u001b[32m115\u001b[39m \u001b[38;5;28;01mraise\u001b[39;00m \u001b[38;5;167;01mValueError\u001b[39;00m(msg)\n",
      "\u001b[31mValueError\u001b[39m: Data cardinality is ambiguous. Make sure all arrays contain the same number of samples.'x' sizes: 56\n'y' sizes: 51\n"
     ]
    }
   ],
   "source": [
    "model.fit(X_train_scaled, y, epochs=1000, batch_size=5, validation_split=0.3)"
   ]
  },
  {
   "cell_type": "markdown",
   "id": "1ca1defc-66af-4cb4-a356-fa9952eff0ca",
   "metadata": {
    "id": "1ca1defc-66af-4cb4-a356-fa9952eff0ca"
   },
   "source": [
    "**Passo 11** - Save model "
   ]
  },
  {
   "cell_type": "code",
   "execution_count": null,
   "id": "ab359ecb-8202-4aa5-bd6e-10a9f4e4477e",
   "metadata": {
    "id": "ab359ecb-8202-4aa5-bd6e-10a9f4e4477e"
   },
   "outputs": [],
   "source": [
    "model.save('C:/Users/RH_VG/Downloads/my_keras_nn_model.keras')  # or use .keras format"
   ]
  }
 ],
 "metadata": {
  "colab": {
   "provenance": []
  },
  "kernelspec": {
   "display_name": "Python 3",
   "language": "python",
   "name": "python3"
  },
  "language_info": {
   "codemirror_mode": {
    "name": "ipython",
    "version": 3
   },
   "file_extension": ".py",
   "mimetype": "text/x-python",
   "name": "python",
   "nbconvert_exporter": "python",
   "pygments_lexer": "ipython3",
   "version": "3.12.8"
  }
 },
 "nbformat": 4,
 "nbformat_minor": 5
}
